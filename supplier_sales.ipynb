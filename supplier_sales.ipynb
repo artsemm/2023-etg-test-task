{
 "cells": [
  {
   "cell_type": "markdown",
   "id": "21a20819-f028-40ff-9883-f0d66e061512",
   "metadata": {},
   "source": [
    "# Artem Matveenkov test task, supply analyst role\n",
    "\n",
    "Assumptions:\n",
    "- all data are correct, there are no noise inside changes of supplies\n",
    "- we strictly want to decrease pricing. It should be fine to try to increase it as well, but I skipped this part because of optimizing execution speed, I guess you need to create a copy of dataframe in case you want to increase prices as well\n",
    "- no info about forecasted_profit is shown. I assume this info is internal and shouldn't be used by suppliers\n",
    "\n",
    "I've spend about three hours total to do this script"
   ]
  },
  {
   "cell_type": "code",
   "execution_count": 5,
   "id": "516abd2a-823c-458a-994e-49b5242888e6",
   "metadata": {},
   "outputs": [],
   "source": [
    "import pandas as pd\n",
    "import numpy as np\n",
    "import plotly.express as px\n",
    "from inspect import cleandoc"
   ]
  },
  {
   "cell_type": "code",
   "execution_count": 6,
   "id": "f369275c-1d2c-495e-a206-080f471fe675",
   "metadata": {},
   "outputs": [
    {
     "data": {
      "text/html": [
       "<div>\n",
       "<style scoped>\n",
       "    .dataframe tbody tr th:only-of-type {\n",
       "        vertical-align: middle;\n",
       "    }\n",
       "\n",
       "    .dataframe tbody tr th {\n",
       "        vertical-align: top;\n",
       "    }\n",
       "\n",
       "    .dataframe thead th {\n",
       "        text-align: right;\n",
       "    }\n",
       "</style>\n",
       "<table border=\"1\" class=\"dataframe\">\n",
       "  <thead>\n",
       "    <tr style=\"text-align: right;\">\n",
       "      <th></th>\n",
       "      <th>row_id</th>\n",
       "      <th>order_date</th>\n",
       "      <th>order_status</th>\n",
       "      <th>booked_supplier</th>\n",
       "      <th>booked_supplier_feed</th>\n",
       "      <th>selling_price</th>\n",
       "      <th>cancellation_probability</th>\n",
       "      <th>order_id</th>\n",
       "      <th>reprice_supplier</th>\n",
       "      <th>reprice_supplier_feed</th>\n",
       "      <th>source_price</th>\n",
       "      <th>source_commission</th>\n",
       "      <th>forecasted_profit</th>\n",
       "    </tr>\n",
       "  </thead>\n",
       "  <tbody>\n",
       "    <tr>\n",
       "      <th>197</th>\n",
       "      <td>5178704</td>\n",
       "      <td>18052</td>\n",
       "      <td>cancelled</td>\n",
       "      <td>NJRE</td>\n",
       "      <td>IEXJ</td>\n",
       "      <td>196.366837</td>\n",
       "      <td>0.0360</td>\n",
       "      <td>18356025</td>\n",
       "      <td>NJRE</td>\n",
       "      <td>IEXJ</td>\n",
       "      <td>208.029756</td>\n",
       "      <td>0.07</td>\n",
       "      <td>9.704634</td>\n",
       "    </tr>\n",
       "    <tr>\n",
       "      <th>273</th>\n",
       "      <td>5178784</td>\n",
       "      <td>18051</td>\n",
       "      <td>completed</td>\n",
       "      <td>HYTR</td>\n",
       "      <td>NYUV</td>\n",
       "      <td>257.315753</td>\n",
       "      <td>0.0333</td>\n",
       "      <td>54848565</td>\n",
       "      <td>FMNM</td>\n",
       "      <td>NYUV</td>\n",
       "      <td>241.097949</td>\n",
       "      <td>0.00</td>\n",
       "      <td>14.084390</td>\n",
       "    </tr>\n",
       "    <tr>\n",
       "      <th>276</th>\n",
       "      <td>5178787</td>\n",
       "      <td>18051</td>\n",
       "      <td>completed</td>\n",
       "      <td>HYTR</td>\n",
       "      <td>NYUV</td>\n",
       "      <td>257.315753</td>\n",
       "      <td>0.0333</td>\n",
       "      <td>54848565</td>\n",
       "      <td>VXRN</td>\n",
       "      <td>RLLU</td>\n",
       "      <td>258.678834</td>\n",
       "      <td>0.06</td>\n",
       "      <td>15.750244</td>\n",
       "    </tr>\n",
       "    <tr>\n",
       "      <th>278</th>\n",
       "      <td>5178789</td>\n",
       "      <td>18051</td>\n",
       "      <td>completed</td>\n",
       "      <td>HYTR</td>\n",
       "      <td>NYUV</td>\n",
       "      <td>257.315753</td>\n",
       "      <td>0.0333</td>\n",
       "      <td>54848565</td>\n",
       "      <td>CBBU</td>\n",
       "      <td>NYUV</td>\n",
       "      <td>244.869293</td>\n",
       "      <td>0.00</td>\n",
       "      <td>15.800244</td>\n",
       "    </tr>\n",
       "    <tr>\n",
       "      <th>283</th>\n",
       "      <td>5178794</td>\n",
       "      <td>18051</td>\n",
       "      <td>completed</td>\n",
       "      <td>HYTR</td>\n",
       "      <td>NYUV</td>\n",
       "      <td>257.315753</td>\n",
       "      <td>0.0333</td>\n",
       "      <td>54848565</td>\n",
       "      <td>VPXO</td>\n",
       "      <td>NYUV</td>\n",
       "      <td>233.555259</td>\n",
       "      <td>0.00</td>\n",
       "      <td>22.127561</td>\n",
       "    </tr>\n",
       "    <tr>\n",
       "      <th>284</th>\n",
       "      <td>5178795</td>\n",
       "      <td>18051</td>\n",
       "      <td>completed</td>\n",
       "      <td>HYTR</td>\n",
       "      <td>NYUV</td>\n",
       "      <td>257.315753</td>\n",
       "      <td>0.0333</td>\n",
       "      <td>54848565</td>\n",
       "      <td>HYTR</td>\n",
       "      <td>NYUV</td>\n",
       "      <td>233.448017</td>\n",
       "      <td>0.00</td>\n",
       "      <td>23.235854</td>\n",
       "    </tr>\n",
       "    <tr>\n",
       "      <th>285</th>\n",
       "      <td>5178796</td>\n",
       "      <td>18051</td>\n",
       "      <td>completed</td>\n",
       "      <td>HYTR</td>\n",
       "      <td>NYUV</td>\n",
       "      <td>257.315753</td>\n",
       "      <td>0.0333</td>\n",
       "      <td>54848565</td>\n",
       "      <td>HYTR</td>\n",
       "      <td>NYUV</td>\n",
       "      <td>233.448017</td>\n",
       "      <td>0.00</td>\n",
       "      <td>23.235854</td>\n",
       "    </tr>\n",
       "    <tr>\n",
       "      <th>511</th>\n",
       "      <td>5179021</td>\n",
       "      <td>18051</td>\n",
       "      <td>completed</td>\n",
       "      <td>NJRE</td>\n",
       "      <td>RVNM</td>\n",
       "      <td>257.052486</td>\n",
       "      <td>0.8388</td>\n",
       "      <td>87098305</td>\n",
       "      <td>NJRE</td>\n",
       "      <td>RVNM</td>\n",
       "      <td>257.052485</td>\n",
       "      <td>0.09</td>\n",
       "      <td>34.148780</td>\n",
       "    </tr>\n",
       "    <tr>\n",
       "      <th>582</th>\n",
       "      <td>5179573</td>\n",
       "      <td>18053</td>\n",
       "      <td>completed</td>\n",
       "      <td>NJRE</td>\n",
       "      <td>IEXJ</td>\n",
       "      <td>167.402213</td>\n",
       "      <td>0.0150</td>\n",
       "      <td>65949964</td>\n",
       "      <td>NJRE</td>\n",
       "      <td>IEXJ</td>\n",
       "      <td>162.386078</td>\n",
       "      <td>0.07</td>\n",
       "      <td>21.656829</td>\n",
       "    </tr>\n",
       "    <tr>\n",
       "      <th>649</th>\n",
       "      <td>5179641</td>\n",
       "      <td>18053</td>\n",
       "      <td>completed</td>\n",
       "      <td>NJRE</td>\n",
       "      <td>IEXJ</td>\n",
       "      <td>167.402213</td>\n",
       "      <td>0.0150</td>\n",
       "      <td>65949964</td>\n",
       "      <td>NJRE</td>\n",
       "      <td>HHLV</td>\n",
       "      <td>185.933649</td>\n",
       "      <td>0.09</td>\n",
       "      <td>3.908780</td>\n",
       "    </tr>\n",
       "  </tbody>\n",
       "</table>\n",
       "</div>"
      ],
      "text/plain": [
       "      row_id  order_date order_status booked_supplier booked_supplier_feed  \\\n",
       "197  5178704       18052    cancelled            NJRE                 IEXJ   \n",
       "273  5178784       18051    completed            HYTR                 NYUV   \n",
       "276  5178787       18051    completed            HYTR                 NYUV   \n",
       "278  5178789       18051    completed            HYTR                 NYUV   \n",
       "283  5178794       18051    completed            HYTR                 NYUV   \n",
       "284  5178795       18051    completed            HYTR                 NYUV   \n",
       "285  5178796       18051    completed            HYTR                 NYUV   \n",
       "511  5179021       18051    completed            NJRE                 RVNM   \n",
       "582  5179573       18053    completed            NJRE                 IEXJ   \n",
       "649  5179641       18053    completed            NJRE                 IEXJ   \n",
       "\n",
       "     selling_price  cancellation_probability  order_id reprice_supplier  \\\n",
       "197     196.366837                    0.0360  18356025             NJRE   \n",
       "273     257.315753                    0.0333  54848565             FMNM   \n",
       "276     257.315753                    0.0333  54848565             VXRN   \n",
       "278     257.315753                    0.0333  54848565             CBBU   \n",
       "283     257.315753                    0.0333  54848565             VPXO   \n",
       "284     257.315753                    0.0333  54848565             HYTR   \n",
       "285     257.315753                    0.0333  54848565             HYTR   \n",
       "511     257.052486                    0.8388  87098305             NJRE   \n",
       "582     167.402213                    0.0150  65949964             NJRE   \n",
       "649     167.402213                    0.0150  65949964             NJRE   \n",
       "\n",
       "    reprice_supplier_feed  source_price  source_commission  forecasted_profit  \n",
       "197                  IEXJ    208.029756               0.07           9.704634  \n",
       "273                  NYUV    241.097949               0.00          14.084390  \n",
       "276                  RLLU    258.678834               0.06          15.750244  \n",
       "278                  NYUV    244.869293               0.00          15.800244  \n",
       "283                  NYUV    233.555259               0.00          22.127561  \n",
       "284                  NYUV    233.448017               0.00          23.235854  \n",
       "285                  NYUV    233.448017               0.00          23.235854  \n",
       "511                  RVNM    257.052485               0.09          34.148780  \n",
       "582                  IEXJ    162.386078               0.07          21.656829  \n",
       "649                  HHLV    185.933649               0.09           3.908780  "
      ]
     },
     "execution_count": 6,
     "metadata": {},
     "output_type": "execute_result"
    }
   ],
   "source": [
    "source_data = pd.read_parquet('reprice_data.parquet')\n",
    "source_data.head(10)"
   ]
  },
  {
   "cell_type": "code",
   "execution_count": 7,
   "id": "c9d182d8-ee8f-4863-a4b4-c449eaed461e",
   "metadata": {},
   "outputs": [],
   "source": [
    "def changes_analysis(df, supplier_name, price_change, output='text'):\n",
    "    \"\"\"Form information about changes of supplies\n",
    "\n",
    "    Arguments:\n",
    "    df -- a dataframe with reprice data\n",
    "    supplier_name -- code of supplier from column 'reprice_supplier'\n",
    "    price_change -- percentage of changing price, use negative value for decreasing one\n",
    "    Keyword arguments:\n",
    "    output -- options 'text' and 'object' are available\n",
    "        text returns a string with actual info for specific price change\n",
    "        object returns a dictionary with parametres of changes\n",
    "    \"\"\"\n",
    "    winning_prices = df.groupby('order_id')['source_price'].min().reset_index() \n",
    "    best_supplier_prices = df[df['reprice_supplier'] == supplier_name] \\\n",
    "        .groupby('order_id')['source_price'].min().reset_index()\n",
    "\n",
    "    best_supplier_prices = best_supplier_prices.merge(df[df['reprice_supplier'] == supplier_name],\n",
    "                          how='left',\n",
    "                          on=['order_id', 'source_price'])\n",
    "\n",
    "    # dropping prices by percentage\n",
    "    # float precision error occurs while price doesn't change - very small numbers are in change_price instead of 0\n",
    "    best_supplier_prices['changed_price'] = best_supplier_prices['source_price']\n",
    "    if price_change != 0:\n",
    "        best_supplier_prices['changed_price'] = best_supplier_prices['source_price'] * (100.0 + price_change) / 100.0\n",
    "        \n",
    "    # positive when the price decreases, negative when the price increases\n",
    "    best_supplier_prices['difference'] = best_supplier_prices['source_price'] - best_supplier_prices['changed_price']\n",
    "\n",
    "    relevant_rows = ['order_id', 'source_price', 'changed_price', 'difference', 'order_status', 'forecasted_profit']\n",
    "    best_supplier_prices = best_supplier_prices[relevant_rows]\n",
    "\n",
    "    merged = best_supplier_prices.merge(winning_prices, \n",
    "                                         how='left', \n",
    "                                         on='order_id', \n",
    "                                         suffixes=('_target', '_winner'))\n",
    "\n",
    "    merged['forecasted_profit_changed'] = merged['forecasted_profit'] + merged['difference']\n",
    "\n",
    "    merged['is_winner_default'] = merged['source_price_target'] <= merged['source_price_winner']\n",
    "    merged['is_winner_changed'] = merged['changed_price'] <= merged['source_price_winner']\n",
    "\n",
    "    result = {'price_change': price_change,\n",
    "              'default_wr': merged['is_winner_default'].sum() / len(merged) * 100,\n",
    "              'changed_wr': merged['is_winner_changed'].sum() / len(merged) * 100,\n",
    "              'default_revenue': merged[(merged['is_winner_default']) & (merged['order_status'] == 'completed')].sum()['source_price_target'],\n",
    "              'changed_revenue': merged[(merged['is_winner_changed']) & (merged['order_status'] == 'completed')].sum()['changed_price']}\n",
    "    if output == 'text':\n",
    "        return cleandoc(f'''\n",
    "            price change: \\t\\t{price_change}%\n",
    "            default winning rate:\\t{result['default_wr']:.4f}%\n",
    "            changed price winning rate:\\t{result['changed_wr']:.4f}%\n",
    "            default revenue:\\t\\t{result['default_revenue']:.2f} MYS\n",
    "            changed price revenue:\\t{result['changed_revenue']:.2f} MYS\n",
    "            ''')\n",
    "    if output == 'object':\n",
    "        return result"
   ]
  },
  {
   "cell_type": "code",
   "execution_count": 8,
   "id": "90ce92ea-613e-4cf1-9086-192cd8f7c9b2",
   "metadata": {},
   "outputs": [
    {
     "data": {
      "application/vnd.plotly.v1+json": {
       "config": {
        "plotlyServerURL": "https://plot.ly"
       },
       "data": [
        {
         "customdata": [
          [
           0,
           0
          ],
          [
           10962.36,
           5.34
          ],
          [
           19484.24,
           9.49
          ],
          [
           39179.37,
           19.08
          ],
          [
           64019.52,
           31.18
          ],
          [
           71098.89,
           34.63
          ],
          [
           85218.67,
           41.51
          ],
          [
           89790.38,
           43.73
          ],
          [
           88905.58,
           43.3
          ],
          [
           87199.08,
           42.47
          ],
          [
           95992.53,
           46.75
          ],
          [
           93438.12,
           45.51
          ],
          [
           92530.08,
           45.07
          ],
          [
           90501.4,
           44.08
          ],
          [
           87465.85,
           42.6
          ],
          [
           84234.66,
           41.03
          ],
          [
           80978.28,
           39.44
          ],
          [
           77569.99,
           37.78
          ],
          [
           74161.71,
           36.12
          ],
          [
           72711.13,
           35.41
          ]
         ],
         "hovertemplate": "Price decrease, X% =%{x}<br>Total revenue, MYS =%{y}<br>Extra revenue, MYS =%{customdata[0]}<br>Revenue change, % =%{customdata[1]}<extra></extra>",
         "legendgroup": "",
         "marker": {
          "color": "#636efa",
          "symbol": "circle"
         },
         "mode": "markers+lines",
         "name": "",
         "orientation": "v",
         "showlegend": false,
         "type": "scatter",
         "x": [
          0,
          -1,
          -2,
          -3,
          -4,
          -5,
          -6,
          -7,
          -8,
          -9,
          -10,
          -11,
          -12,
          -13,
          -14,
          -15,
          -16,
          -17,
          -18,
          -19
         ],
         "xaxis": "x",
         "y": [
          205317.51,
          216279.87,
          224801.75,
          244496.89,
          269337.03,
          276416.41,
          290536.19,
          295107.89,
          294223.09,
          292516.59,
          301310.05,
          298755.63,
          297847.6,
          295818.92,
          292783.36,
          289552.18,
          286295.79,
          282887.51,
          279479.22,
          278028.65
         ],
         "yaxis": "y"
        }
       ],
       "layout": {
        "annotations": [
         {
          "text": "max revenue",
          "x": -10,
          "y": 301310.05
         }
        ],
        "autosize": true,
        "legend": {
         "tracegroupgap": 0
        },
        "template": {
         "data": {
          "bar": [
           {
            "error_x": {
             "color": "#2a3f5f"
            },
            "error_y": {
             "color": "#2a3f5f"
            },
            "marker": {
             "line": {
              "color": "#E5ECF6",
              "width": 0.5
             },
             "pattern": {
              "fillmode": "overlay",
              "size": 10,
              "solidity": 0.2
             }
            },
            "type": "bar"
           }
          ],
          "barpolar": [
           {
            "marker": {
             "line": {
              "color": "#E5ECF6",
              "width": 0.5
             },
             "pattern": {
              "fillmode": "overlay",
              "size": 10,
              "solidity": 0.2
             }
            },
            "type": "barpolar"
           }
          ],
          "carpet": [
           {
            "aaxis": {
             "endlinecolor": "#2a3f5f",
             "gridcolor": "white",
             "linecolor": "white",
             "minorgridcolor": "white",
             "startlinecolor": "#2a3f5f"
            },
            "baxis": {
             "endlinecolor": "#2a3f5f",
             "gridcolor": "white",
             "linecolor": "white",
             "minorgridcolor": "white",
             "startlinecolor": "#2a3f5f"
            },
            "type": "carpet"
           }
          ],
          "choropleth": [
           {
            "colorbar": {
             "outlinewidth": 0,
             "ticks": ""
            },
            "type": "choropleth"
           }
          ],
          "contour": [
           {
            "colorbar": {
             "outlinewidth": 0,
             "ticks": ""
            },
            "colorscale": [
             [
              0,
              "#0d0887"
             ],
             [
              0.1111111111111111,
              "#46039f"
             ],
             [
              0.2222222222222222,
              "#7201a8"
             ],
             [
              0.3333333333333333,
              "#9c179e"
             ],
             [
              0.4444444444444444,
              "#bd3786"
             ],
             [
              0.5555555555555556,
              "#d8576b"
             ],
             [
              0.6666666666666666,
              "#ed7953"
             ],
             [
              0.7777777777777778,
              "#fb9f3a"
             ],
             [
              0.8888888888888888,
              "#fdca26"
             ],
             [
              1,
              "#f0f921"
             ]
            ],
            "type": "contour"
           }
          ],
          "contourcarpet": [
           {
            "colorbar": {
             "outlinewidth": 0,
             "ticks": ""
            },
            "type": "contourcarpet"
           }
          ],
          "heatmap": [
           {
            "colorbar": {
             "outlinewidth": 0,
             "ticks": ""
            },
            "colorscale": [
             [
              0,
              "#0d0887"
             ],
             [
              0.1111111111111111,
              "#46039f"
             ],
             [
              0.2222222222222222,
              "#7201a8"
             ],
             [
              0.3333333333333333,
              "#9c179e"
             ],
             [
              0.4444444444444444,
              "#bd3786"
             ],
             [
              0.5555555555555556,
              "#d8576b"
             ],
             [
              0.6666666666666666,
              "#ed7953"
             ],
             [
              0.7777777777777778,
              "#fb9f3a"
             ],
             [
              0.8888888888888888,
              "#fdca26"
             ],
             [
              1,
              "#f0f921"
             ]
            ],
            "type": "heatmap"
           }
          ],
          "heatmapgl": [
           {
            "colorbar": {
             "outlinewidth": 0,
             "ticks": ""
            },
            "colorscale": [
             [
              0,
              "#0d0887"
             ],
             [
              0.1111111111111111,
              "#46039f"
             ],
             [
              0.2222222222222222,
              "#7201a8"
             ],
             [
              0.3333333333333333,
              "#9c179e"
             ],
             [
              0.4444444444444444,
              "#bd3786"
             ],
             [
              0.5555555555555556,
              "#d8576b"
             ],
             [
              0.6666666666666666,
              "#ed7953"
             ],
             [
              0.7777777777777778,
              "#fb9f3a"
             ],
             [
              0.8888888888888888,
              "#fdca26"
             ],
             [
              1,
              "#f0f921"
             ]
            ],
            "type": "heatmapgl"
           }
          ],
          "histogram": [
           {
            "marker": {
             "pattern": {
              "fillmode": "overlay",
              "size": 10,
              "solidity": 0.2
             }
            },
            "type": "histogram"
           }
          ],
          "histogram2d": [
           {
            "colorbar": {
             "outlinewidth": 0,
             "ticks": ""
            },
            "colorscale": [
             [
              0,
              "#0d0887"
             ],
             [
              0.1111111111111111,
              "#46039f"
             ],
             [
              0.2222222222222222,
              "#7201a8"
             ],
             [
              0.3333333333333333,
              "#9c179e"
             ],
             [
              0.4444444444444444,
              "#bd3786"
             ],
             [
              0.5555555555555556,
              "#d8576b"
             ],
             [
              0.6666666666666666,
              "#ed7953"
             ],
             [
              0.7777777777777778,
              "#fb9f3a"
             ],
             [
              0.8888888888888888,
              "#fdca26"
             ],
             [
              1,
              "#f0f921"
             ]
            ],
            "type": "histogram2d"
           }
          ],
          "histogram2dcontour": [
           {
            "colorbar": {
             "outlinewidth": 0,
             "ticks": ""
            },
            "colorscale": [
             [
              0,
              "#0d0887"
             ],
             [
              0.1111111111111111,
              "#46039f"
             ],
             [
              0.2222222222222222,
              "#7201a8"
             ],
             [
              0.3333333333333333,
              "#9c179e"
             ],
             [
              0.4444444444444444,
              "#bd3786"
             ],
             [
              0.5555555555555556,
              "#d8576b"
             ],
             [
              0.6666666666666666,
              "#ed7953"
             ],
             [
              0.7777777777777778,
              "#fb9f3a"
             ],
             [
              0.8888888888888888,
              "#fdca26"
             ],
             [
              1,
              "#f0f921"
             ]
            ],
            "type": "histogram2dcontour"
           }
          ],
          "mesh3d": [
           {
            "colorbar": {
             "outlinewidth": 0,
             "ticks": ""
            },
            "type": "mesh3d"
           }
          ],
          "parcoords": [
           {
            "line": {
             "colorbar": {
              "outlinewidth": 0,
              "ticks": ""
             }
            },
            "type": "parcoords"
           }
          ],
          "pie": [
           {
            "automargin": true,
            "type": "pie"
           }
          ],
          "scatter": [
           {
            "fillpattern": {
             "fillmode": "overlay",
             "size": 10,
             "solidity": 0.2
            },
            "type": "scatter"
           }
          ],
          "scatter3d": [
           {
            "line": {
             "colorbar": {
              "outlinewidth": 0,
              "ticks": ""
             }
            },
            "marker": {
             "colorbar": {
              "outlinewidth": 0,
              "ticks": ""
             }
            },
            "type": "scatter3d"
           }
          ],
          "scattercarpet": [
           {
            "marker": {
             "colorbar": {
              "outlinewidth": 0,
              "ticks": ""
             }
            },
            "type": "scattercarpet"
           }
          ],
          "scattergeo": [
           {
            "marker": {
             "colorbar": {
              "outlinewidth": 0,
              "ticks": ""
             }
            },
            "type": "scattergeo"
           }
          ],
          "scattergl": [
           {
            "marker": {
             "colorbar": {
              "outlinewidth": 0,
              "ticks": ""
             }
            },
            "type": "scattergl"
           }
          ],
          "scattermapbox": [
           {
            "marker": {
             "colorbar": {
              "outlinewidth": 0,
              "ticks": ""
             }
            },
            "type": "scattermapbox"
           }
          ],
          "scatterpolar": [
           {
            "marker": {
             "colorbar": {
              "outlinewidth": 0,
              "ticks": ""
             }
            },
            "type": "scatterpolar"
           }
          ],
          "scatterpolargl": [
           {
            "marker": {
             "colorbar": {
              "outlinewidth": 0,
              "ticks": ""
             }
            },
            "type": "scatterpolargl"
           }
          ],
          "scatterternary": [
           {
            "marker": {
             "colorbar": {
              "outlinewidth": 0,
              "ticks": ""
             }
            },
            "type": "scatterternary"
           }
          ],
          "surface": [
           {
            "colorbar": {
             "outlinewidth": 0,
             "ticks": ""
            },
            "colorscale": [
             [
              0,
              "#0d0887"
             ],
             [
              0.1111111111111111,
              "#46039f"
             ],
             [
              0.2222222222222222,
              "#7201a8"
             ],
             [
              0.3333333333333333,
              "#9c179e"
             ],
             [
              0.4444444444444444,
              "#bd3786"
             ],
             [
              0.5555555555555556,
              "#d8576b"
             ],
             [
              0.6666666666666666,
              "#ed7953"
             ],
             [
              0.7777777777777778,
              "#fb9f3a"
             ],
             [
              0.8888888888888888,
              "#fdca26"
             ],
             [
              1,
              "#f0f921"
             ]
            ],
            "type": "surface"
           }
          ],
          "table": [
           {
            "cells": {
             "fill": {
              "color": "#EBF0F8"
             },
             "line": {
              "color": "white"
             }
            },
            "header": {
             "fill": {
              "color": "#C8D4E3"
             },
             "line": {
              "color": "white"
             }
            },
            "type": "table"
           }
          ]
         },
         "layout": {
          "annotationdefaults": {
           "arrowcolor": "#2a3f5f",
           "arrowhead": 0,
           "arrowwidth": 1
          },
          "autotypenumbers": "strict",
          "coloraxis": {
           "colorbar": {
            "outlinewidth": 0,
            "ticks": ""
           }
          },
          "colorscale": {
           "diverging": [
            [
             0,
             "#8e0152"
            ],
            [
             0.1,
             "#c51b7d"
            ],
            [
             0.2,
             "#de77ae"
            ],
            [
             0.3,
             "#f1b6da"
            ],
            [
             0.4,
             "#fde0ef"
            ],
            [
             0.5,
             "#f7f7f7"
            ],
            [
             0.6,
             "#e6f5d0"
            ],
            [
             0.7,
             "#b8e186"
            ],
            [
             0.8,
             "#7fbc41"
            ],
            [
             0.9,
             "#4d9221"
            ],
            [
             1,
             "#276419"
            ]
           ],
           "sequential": [
            [
             0,
             "#0d0887"
            ],
            [
             0.1111111111111111,
             "#46039f"
            ],
            [
             0.2222222222222222,
             "#7201a8"
            ],
            [
             0.3333333333333333,
             "#9c179e"
            ],
            [
             0.4444444444444444,
             "#bd3786"
            ],
            [
             0.5555555555555556,
             "#d8576b"
            ],
            [
             0.6666666666666666,
             "#ed7953"
            ],
            [
             0.7777777777777778,
             "#fb9f3a"
            ],
            [
             0.8888888888888888,
             "#fdca26"
            ],
            [
             1,
             "#f0f921"
            ]
           ],
           "sequentialminus": [
            [
             0,
             "#0d0887"
            ],
            [
             0.1111111111111111,
             "#46039f"
            ],
            [
             0.2222222222222222,
             "#7201a8"
            ],
            [
             0.3333333333333333,
             "#9c179e"
            ],
            [
             0.4444444444444444,
             "#bd3786"
            ],
            [
             0.5555555555555556,
             "#d8576b"
            ],
            [
             0.6666666666666666,
             "#ed7953"
            ],
            [
             0.7777777777777778,
             "#fb9f3a"
            ],
            [
             0.8888888888888888,
             "#fdca26"
            ],
            [
             1,
             "#f0f921"
            ]
           ]
          },
          "colorway": [
           "#636efa",
           "#EF553B",
           "#00cc96",
           "#ab63fa",
           "#FFA15A",
           "#19d3f3",
           "#FF6692",
           "#B6E880",
           "#FF97FF",
           "#FECB52"
          ],
          "font": {
           "color": "#2a3f5f"
          },
          "geo": {
           "bgcolor": "white",
           "lakecolor": "white",
           "landcolor": "#E5ECF6",
           "showlakes": true,
           "showland": true,
           "subunitcolor": "white"
          },
          "hoverlabel": {
           "align": "left"
          },
          "hovermode": "closest",
          "mapbox": {
           "style": "light"
          },
          "paper_bgcolor": "white",
          "plot_bgcolor": "#E5ECF6",
          "polar": {
           "angularaxis": {
            "gridcolor": "white",
            "linecolor": "white",
            "ticks": ""
           },
           "bgcolor": "#E5ECF6",
           "radialaxis": {
            "gridcolor": "white",
            "linecolor": "white",
            "ticks": ""
           }
          },
          "scene": {
           "xaxis": {
            "backgroundcolor": "#E5ECF6",
            "gridcolor": "white",
            "gridwidth": 2,
            "linecolor": "white",
            "showbackground": true,
            "ticks": "",
            "zerolinecolor": "white"
           },
           "yaxis": {
            "backgroundcolor": "#E5ECF6",
            "gridcolor": "white",
            "gridwidth": 2,
            "linecolor": "white",
            "showbackground": true,
            "ticks": "",
            "zerolinecolor": "white"
           },
           "zaxis": {
            "backgroundcolor": "#E5ECF6",
            "gridcolor": "white",
            "gridwidth": 2,
            "linecolor": "white",
            "showbackground": true,
            "ticks": "",
            "zerolinecolor": "white"
           }
          },
          "shapedefaults": {
           "line": {
            "color": "#2a3f5f"
           }
          },
          "ternary": {
           "aaxis": {
            "gridcolor": "white",
            "linecolor": "white",
            "ticks": ""
           },
           "baxis": {
            "gridcolor": "white",
            "linecolor": "white",
            "ticks": ""
           },
           "bgcolor": "#E5ECF6",
           "caxis": {
            "gridcolor": "white",
            "linecolor": "white",
            "ticks": ""
           }
          },
          "title": {
           "x": 0.05
          },
          "xaxis": {
           "automargin": true,
           "gridcolor": "white",
           "linecolor": "white",
           "ticks": "",
           "title": {
            "standoff": 15
           },
           "zerolinecolor": "white",
           "zerolinewidth": 2
          },
          "yaxis": {
           "automargin": true,
           "gridcolor": "white",
           "linecolor": "white",
           "ticks": "",
           "title": {
            "standoff": 15
           },
           "zerolinecolor": "white",
           "zerolinewidth": 2
          }
         }
        },
        "title": {
         "text": "Sales increase prediction for the HYTR company"
        },
        "xaxis": {
         "anchor": "y",
         "autorange": true,
         "domain": [
          0,
          1
         ],
         "range": [
          1.1326709526592638,
          -20.132670952659264
         ],
         "title": {
          "text": "Price decrease, X% "
         },
         "type": "linear"
        },
        "yaxis": {
         "anchor": "x",
         "autorange": true,
         "domain": [
          0,
          1
         ],
         "range": [
          195737.0412328767,
          330990.71794520546
         ],
         "title": {
          "text": "Total revenue, MYS "
         },
         "type": "linear"
        }
       }
      },
      "image/png": "[encoded data removed]",
      "text/html": [
       "<div>                            <div id=\"1419037e-249a-4889-ae54-ce7d70602286\" class=\"plotly-graph-div\" style=\"height:525px; width:100%;\"></div>            <script type=\"text/javascript\">                require([\"plotly\"], function(Plotly) {                    window.PLOTLYENV=window.PLOTLYENV || {};                                    if (document.getElementById(\"1419037e-249a-4889-ae54-ce7d70602286\")) {                    Plotly.newPlot(                        \"1419037e-249a-4889-ae54-ce7d70602286\",                        [{\"customdata\":[[0.0,0.0],[10962.36,5.34],[19484.24,9.49],[39179.37,19.08],[64019.52,31.18],[71098.89,34.63],[85218.67,41.51],[89790.38,43.73],[88905.58,43.3],[87199.08,42.47],[95992.53,46.75],[93438.12,45.51],[92530.08,45.07],[90501.4,44.08],[87465.85,42.6],[84234.66,41.03],[80978.28,39.44],[77569.99,37.78],[74161.71,36.12],[72711.13,35.41]],\"hovertemplate\":\"Price decrease, X% =%{x}<br>Total revenue, MYS =%{y}<br>Extra revenue, MYS =%{customdata[0]}<br>Revenue change, % =%{customdata[1]}<extra></extra>\",\"legendgroup\":\"\",\"marker\":{\"color\":\"#636efa\",\"symbol\":\"circle\"},\"mode\":\"markers+lines\",\"name\":\"\",\"orientation\":\"v\",\"showlegend\":false,\"x\":[0,-1,-2,-3,-4,-5,-6,-7,-8,-9,-10,-11,-12,-13,-14,-15,-16,-17,-18,-19],\"xaxis\":\"x\",\"y\":[205317.51,216279.87,224801.75,244496.89,269337.03,276416.41,290536.19,295107.89,294223.09,292516.59,301310.05,298755.63,297847.6,295818.92,292783.36,289552.18,286295.79,282887.51,279479.22,278028.65],\"yaxis\":\"y\",\"type\":\"scatter\"}],                        {\"template\":{\"data\":{\"histogram2dcontour\":[{\"type\":\"histogram2dcontour\",\"colorbar\":{\"outlinewidth\":0,\"ticks\":\"\"},\"colorscale\":[[0.0,\"#0d0887\"],[0.1111111111111111,\"#46039f\"],[0.2222222222222222,\"#7201a8\"],[0.3333333333333333,\"#9c179e\"],[0.4444444444444444,\"#bd3786\"],[0.5555555555555556,\"#d8576b\"],[0.6666666666666666,\"#ed7953\"],[0.7777777777777778,\"#fb9f3a\"],[0.8888888888888888,\"#fdca26\"],[1.0,\"#f0f921\"]]}],\"choropleth\":[{\"type\":\"choropleth\",\"colorbar\":{\"outlinewidth\":0,\"ticks\":\"\"}}],\"histogram2d\":[{\"type\":\"histogram2d\",\"colorbar\":{\"outlinewidth\":0,\"ticks\":\"\"},\"colorscale\":[[0.0,\"#0d0887\"],[0.1111111111111111,\"#46039f\"],[0.2222222222222222,\"#7201a8\"],[0.3333333333333333,\"#9c179e\"],[0.4444444444444444,\"#bd3786\"],[0.5555555555555556,\"#d8576b\"],[0.6666666666666666,\"#ed7953\"],[0.7777777777777778,\"#fb9f3a\"],[0.8888888888888888,\"#fdca26\"],[1.0,\"#f0f921\"]]}],\"heatmap\":[{\"type\":\"heatmap\",\"colorbar\":{\"outlinewidth\":0,\"ticks\":\"\"},\"colorscale\":[[0.0,\"#0d0887\"],[0.1111111111111111,\"#46039f\"],[0.2222222222222222,\"#7201a8\"],[0.3333333333333333,\"#9c179e\"],[0.4444444444444444,\"#bd3786\"],[0.5555555555555556,\"#d8576b\"],[0.6666666666666666,\"#ed7953\"],[0.7777777777777778,\"#fb9f3a\"],[0.8888888888888888,\"#fdca26\"],[1.0,\"#f0f921\"]]}],\"heatmapgl\":[{\"type\":\"heatmapgl\",\"colorbar\":{\"outlinewidth\":0,\"ticks\":\"\"},\"colorscale\":[[0.0,\"#0d0887\"],[0.1111111111111111,\"#46039f\"],[0.2222222222222222,\"#7201a8\"],[0.3333333333333333,\"#9c179e\"],[0.4444444444444444,\"#bd3786\"],[0.5555555555555556,\"#d8576b\"],[0.6666666666666666,\"#ed7953\"],[0.7777777777777778,\"#fb9f3a\"],[0.8888888888888888,\"#fdca26\"],[1.0,\"#f0f921\"]]}],\"contourcarpet\":[{\"type\":\"contourcarpet\",\"colorbar\":{\"outlinewidth\":0,\"ticks\":\"\"}}],\"contour\":[{\"type\":\"contour\",\"colorbar\":{\"outlinewidth\":0,\"ticks\":\"\"},\"colorscale\":[[0.0,\"#0d0887\"],[0.1111111111111111,\"#46039f\"],[0.2222222222222222,\"#7201a8\"],[0.3333333333333333,\"#9c179e\"],[0.4444444444444444,\"#bd3786\"],[0.5555555555555556,\"#d8576b\"],[0.6666666666666666,\"#ed7953\"],[0.7777777777777778,\"#fb9f3a\"],[0.8888888888888888,\"#fdca26\"],[1.0,\"#f0f921\"]]}],\"surface\":[{\"type\":\"surface\",\"colorbar\":{\"outlinewidth\":0,\"ticks\":\"\"},\"colorscale\":[[0.0,\"#0d0887\"],[0.1111111111111111,\"#46039f\"],[0.2222222222222222,\"#7201a8\"],[0.3333333333333333,\"#9c179e\"],[0.4444444444444444,\"#bd3786\"],[0.5555555555555556,\"#d8576b\"],[0.6666666666666666,\"#ed7953\"],[0.7777777777777778,\"#fb9f3a\"],[0.8888888888888888,\"#fdca26\"],[1.0,\"#f0f921\"]]}],\"mesh3d\":[{\"type\":\"mesh3d\",\"colorbar\":{\"outlinewidth\":0,\"ticks\":\"\"}}],\"scatter\":[{\"fillpattern\":{\"fillmode\":\"overlay\",\"size\":10,\"solidity\":0.2},\"type\":\"scatter\"}],\"parcoords\":[{\"type\":\"parcoords\",\"line\":{\"colorbar\":{\"outlinewidth\":0,\"ticks\":\"\"}}}],\"scatterpolargl\":[{\"type\":\"scatterpolargl\",\"marker\":{\"colorbar\":{\"outlinewidth\":0,\"ticks\":\"\"}}}],\"bar\":[{\"error_x\":{\"color\":\"#2a3f5f\"},\"error_y\":{\"color\":\"#2a3f5f\"},\"marker\":{\"line\":{\"color\":\"#E5ECF6\",\"width\":0.5},\"pattern\":{\"fillmode\":\"overlay\",\"size\":10,\"solidity\":0.2}},\"type\":\"bar\"}],\"scattergeo\":[{\"type\":\"scattergeo\",\"marker\":{\"colorbar\":{\"outlinewidth\":0,\"ticks\":\"\"}}}],\"scatterpolar\":[{\"type\":\"scatterpolar\",\"marker\":{\"colorbar\":{\"outlinewidth\":0,\"ticks\":\"\"}}}],\"histogram\":[{\"marker\":{\"pattern\":{\"fillmode\":\"overlay\",\"size\":10,\"solidity\":0.2}},\"type\":\"histogram\"}],\"scattergl\":[{\"type\":\"scattergl\",\"marker\":{\"colorbar\":{\"outlinewidth\":0,\"ticks\":\"\"}}}],\"scatter3d\":[{\"type\":\"scatter3d\",\"line\":{\"colorbar\":{\"outlinewidth\":0,\"ticks\":\"\"}},\"marker\":{\"colorbar\":{\"outlinewidth\":0,\"ticks\":\"\"}}}],\"scattermapbox\":[{\"type\":\"scattermapbox\",\"marker\":{\"colorbar\":{\"outlinewidth\":0,\"ticks\":\"\"}}}],\"scatterternary\":[{\"type\":\"scatterternary\",\"marker\":{\"colorbar\":{\"outlinewidth\":0,\"ticks\":\"\"}}}],\"scattercarpet\":[{\"type\":\"scattercarpet\",\"marker\":{\"colorbar\":{\"outlinewidth\":0,\"ticks\":\"\"}}}],\"carpet\":[{\"aaxis\":{\"endlinecolor\":\"#2a3f5f\",\"gridcolor\":\"white\",\"linecolor\":\"white\",\"minorgridcolor\":\"white\",\"startlinecolor\":\"#2a3f5f\"},\"baxis\":{\"endlinecolor\":\"#2a3f5f\",\"gridcolor\":\"white\",\"linecolor\":\"white\",\"minorgridcolor\":\"white\",\"startlinecolor\":\"#2a3f5f\"},\"type\":\"carpet\"}],\"table\":[{\"cells\":{\"fill\":{\"color\":\"#EBF0F8\"},\"line\":{\"color\":\"white\"}},\"header\":{\"fill\":{\"color\":\"#C8D4E3\"},\"line\":{\"color\":\"white\"}},\"type\":\"table\"}],\"barpolar\":[{\"marker\":{\"line\":{\"color\":\"#E5ECF6\",\"width\":0.5},\"pattern\":{\"fillmode\":\"overlay\",\"size\":10,\"solidity\":0.2}},\"type\":\"barpolar\"}],\"pie\":[{\"automargin\":true,\"type\":\"pie\"}]},\"layout\":{\"autotypenumbers\":\"strict\",\"colorway\":[\"#636efa\",\"#EF553B\",\"#00cc96\",\"#ab63fa\",\"#FFA15A\",\"#19d3f3\",\"#FF6692\",\"#B6E880\",\"#FF97FF\",\"#FECB52\"],\"font\":{\"color\":\"#2a3f5f\"},\"hovermode\":\"closest\",\"hoverlabel\":{\"align\":\"left\"},\"paper_bgcolor\":\"white\",\"plot_bgcolor\":\"#E5ECF6\",\"polar\":{\"bgcolor\":\"#E5ECF6\",\"angularaxis\":{\"gridcolor\":\"white\",\"linecolor\":\"white\",\"ticks\":\"\"},\"radialaxis\":{\"gridcolor\":\"white\",\"linecolor\":\"white\",\"ticks\":\"\"}},\"ternary\":{\"bgcolor\":\"#E5ECF6\",\"aaxis\":{\"gridcolor\":\"white\",\"linecolor\":\"white\",\"ticks\":\"\"},\"baxis\":{\"gridcolor\":\"white\",\"linecolor\":\"white\",\"ticks\":\"\"},\"caxis\":{\"gridcolor\":\"white\",\"linecolor\":\"white\",\"ticks\":\"\"}},\"coloraxis\":{\"colorbar\":{\"outlinewidth\":0,\"ticks\":\"\"}},\"colorscale\":{\"sequential\":[[0.0,\"#0d0887\"],[0.1111111111111111,\"#46039f\"],[0.2222222222222222,\"#7201a8\"],[0.3333333333333333,\"#9c179e\"],[0.4444444444444444,\"#bd3786\"],[0.5555555555555556,\"#d8576b\"],[0.6666666666666666,\"#ed7953\"],[0.7777777777777778,\"#fb9f3a\"],[0.8888888888888888,\"#fdca26\"],[1.0,\"#f0f921\"]],\"sequentialminus\":[[0.0,\"#0d0887\"],[0.1111111111111111,\"#46039f\"],[0.2222222222222222,\"#7201a8\"],[0.3333333333333333,\"#9c179e\"],[0.4444444444444444,\"#bd3786\"],[0.5555555555555556,\"#d8576b\"],[0.6666666666666666,\"#ed7953\"],[0.7777777777777778,\"#fb9f3a\"],[0.8888888888888888,\"#fdca26\"],[1.0,\"#f0f921\"]],\"diverging\":[[0,\"#8e0152\"],[0.1,\"#c51b7d\"],[0.2,\"#de77ae\"],[0.3,\"#f1b6da\"],[0.4,\"#fde0ef\"],[0.5,\"#f7f7f7\"],[0.6,\"#e6f5d0\"],[0.7,\"#b8e186\"],[0.8,\"#7fbc41\"],[0.9,\"#4d9221\"],[1,\"#276419\"]]},\"xaxis\":{\"gridcolor\":\"white\",\"linecolor\":\"white\",\"ticks\":\"\",\"title\":{\"standoff\":15},\"zerolinecolor\":\"white\",\"automargin\":true,\"zerolinewidth\":2},\"yaxis\":{\"gridcolor\":\"white\",\"linecolor\":\"white\",\"ticks\":\"\",\"title\":{\"standoff\":15},\"zerolinecolor\":\"white\",\"automargin\":true,\"zerolinewidth\":2},\"scene\":{\"xaxis\":{\"backgroundcolor\":\"#E5ECF6\",\"gridcolor\":\"white\",\"linecolor\":\"white\",\"showbackground\":true,\"ticks\":\"\",\"zerolinecolor\":\"white\",\"gridwidth\":2},\"yaxis\":{\"backgroundcolor\":\"#E5ECF6\",\"gridcolor\":\"white\",\"linecolor\":\"white\",\"showbackground\":true,\"ticks\":\"\",\"zerolinecolor\":\"white\",\"gridwidth\":2},\"zaxis\":{\"backgroundcolor\":\"#E5ECF6\",\"gridcolor\":\"white\",\"linecolor\":\"white\",\"showbackground\":true,\"ticks\":\"\",\"zerolinecolor\":\"white\",\"gridwidth\":2}},\"shapedefaults\":{\"line\":{\"color\":\"#2a3f5f\"}},\"annotationdefaults\":{\"arrowcolor\":\"#2a3f5f\",\"arrowhead\":0,\"arrowwidth\":1},\"geo\":{\"bgcolor\":\"white\",\"landcolor\":\"#E5ECF6\",\"subunitcolor\":\"white\",\"showland\":true,\"showlakes\":true,\"lakecolor\":\"white\"},\"title\":{\"x\":0.05},\"mapbox\":{\"style\":\"light\"}}},\"xaxis\":{\"anchor\":\"y\",\"domain\":[0.0,1.0],\"title\":{\"text\":\"Price decrease, X% \"},\"autorange\":\"reversed\"},\"yaxis\":{\"anchor\":\"x\",\"domain\":[0.0,1.0],\"title\":{\"text\":\"Total revenue, MYS \"}},\"legend\":{\"tracegroupgap\":0},\"title\":{\"text\":\"Sales increase prediction for the HYTR company\"},\"annotations\":[{\"text\":\"max revenue\",\"x\":-10.0,\"y\":301310.05}]},                        {\"responsive\": true}                    ).then(function(){\n",
       "                            \n",
       "var gd = document.getElementById('1419037e-249a-4889-ae54-ce7d70602286');\n",
       "var x = new MutationObserver(function (mutations, observer) {{\n",
       "        var display = window.getComputedStyle(gd).display;\n",
       "        if (!display || display === 'none') {{\n",
       "            console.log([gd, 'removed!']);\n",
       "            Plotly.purge(gd);\n",
       "            observer.disconnect();\n",
       "        }}\n",
       "}});\n",
       "\n",
       "// Listen for the removal of the full notebook cells\n",
       "var notebookContainer = gd.closest('#notebook-container');\n",
       "if (notebookContainer) {{\n",
       "    x.observe(notebookContainer, {childList: true});\n",
       "}}\n",
       "\n",
       "// Listen for the clearing of the current output cell\n",
       "var outputEl = gd.closest('.output');\n",
       "if (outputEl) {{\n",
       "    x.observe(outputEl, {childList: true});\n",
       "}}\n",
       "\n",
       "                        })                };                });            </script>        </div>"
      ]
     },
     "metadata": {},
     "output_type": "display_data"
    },
    {
     "data": {
      "text/html": [
       "<div>\n",
       "<style scoped>\n",
       "    .dataframe tbody tr th:only-of-type {\n",
       "        vertical-align: middle;\n",
       "    }\n",
       "\n",
       "    .dataframe tbody tr th {\n",
       "        vertical-align: top;\n",
       "    }\n",
       "\n",
       "    .dataframe thead th {\n",
       "        text-align: right;\n",
       "    }\n",
       "</style>\n",
       "<table border=\"1\" class=\"dataframe\">\n",
       "  <thead>\n",
       "    <tr style=\"text-align: right;\">\n",
       "      <th></th>\n",
       "      <th>price_change</th>\n",
       "      <th>default_wr</th>\n",
       "      <th>changed_wr</th>\n",
       "      <th>default_revenue</th>\n",
       "      <th>changed_revenue</th>\n",
       "      <th>difference_revenue</th>\n",
       "      <th>percentage_revenue</th>\n",
       "    </tr>\n",
       "  </thead>\n",
       "  <tbody>\n",
       "    <tr>\n",
       "      <th>0</th>\n",
       "      <td>0</td>\n",
       "      <td>61.65</td>\n",
       "      <td>61.65</td>\n",
       "      <td>205317.51</td>\n",
       "      <td>205317.51</td>\n",
       "      <td>0.00</td>\n",
       "      <td>0.00</td>\n",
       "    </tr>\n",
       "    <tr>\n",
       "      <th>1</th>\n",
       "      <td>-1</td>\n",
       "      <td>61.65</td>\n",
       "      <td>66.54</td>\n",
       "      <td>205317.51</td>\n",
       "      <td>216279.87</td>\n",
       "      <td>10962.36</td>\n",
       "      <td>5.34</td>\n",
       "    </tr>\n",
       "    <tr>\n",
       "      <th>2</th>\n",
       "      <td>-2</td>\n",
       "      <td>61.65</td>\n",
       "      <td>70.68</td>\n",
       "      <td>205317.51</td>\n",
       "      <td>224801.75</td>\n",
       "      <td>19484.24</td>\n",
       "      <td>9.49</td>\n",
       "    </tr>\n",
       "    <tr>\n",
       "      <th>3</th>\n",
       "      <td>-3</td>\n",
       "      <td>61.65</td>\n",
       "      <td>76.50</td>\n",
       "      <td>205317.51</td>\n",
       "      <td>244496.89</td>\n",
       "      <td>39179.37</td>\n",
       "      <td>19.08</td>\n",
       "    </tr>\n",
       "    <tr>\n",
       "      <th>4</th>\n",
       "      <td>-4</td>\n",
       "      <td>61.65</td>\n",
       "      <td>81.58</td>\n",
       "      <td>205317.51</td>\n",
       "      <td>269337.03</td>\n",
       "      <td>64019.52</td>\n",
       "      <td>31.18</td>\n",
       "    </tr>\n",
       "    <tr>\n",
       "      <th>5</th>\n",
       "      <td>-5</td>\n",
       "      <td>61.65</td>\n",
       "      <td>85.53</td>\n",
       "      <td>205317.51</td>\n",
       "      <td>276416.41</td>\n",
       "      <td>71098.89</td>\n",
       "      <td>34.63</td>\n",
       "    </tr>\n",
       "    <tr>\n",
       "      <th>6</th>\n",
       "      <td>-6</td>\n",
       "      <td>61.65</td>\n",
       "      <td>89.29</td>\n",
       "      <td>205317.51</td>\n",
       "      <td>290536.19</td>\n",
       "      <td>85218.67</td>\n",
       "      <td>41.51</td>\n",
       "    </tr>\n",
       "    <tr>\n",
       "      <th>7</th>\n",
       "      <td>-7</td>\n",
       "      <td>61.65</td>\n",
       "      <td>91.73</td>\n",
       "      <td>205317.51</td>\n",
       "      <td>295107.89</td>\n",
       "      <td>89790.38</td>\n",
       "      <td>43.73</td>\n",
       "    </tr>\n",
       "    <tr>\n",
       "      <th>8</th>\n",
       "      <td>-8</td>\n",
       "      <td>61.65</td>\n",
       "      <td>93.05</td>\n",
       "      <td>205317.51</td>\n",
       "      <td>294223.09</td>\n",
       "      <td>88905.58</td>\n",
       "      <td>43.30</td>\n",
       "    </tr>\n",
       "    <tr>\n",
       "      <th>9</th>\n",
       "      <td>-9</td>\n",
       "      <td>61.65</td>\n",
       "      <td>93.61</td>\n",
       "      <td>205317.51</td>\n",
       "      <td>292516.59</td>\n",
       "      <td>87199.08</td>\n",
       "      <td>42.47</td>\n",
       "    </tr>\n",
       "    <tr>\n",
       "      <th>10</th>\n",
       "      <td>-10</td>\n",
       "      <td>61.65</td>\n",
       "      <td>95.49</td>\n",
       "      <td>205317.51</td>\n",
       "      <td>301310.05</td>\n",
       "      <td>95992.53</td>\n",
       "      <td>46.75</td>\n",
       "    </tr>\n",
       "    <tr>\n",
       "      <th>11</th>\n",
       "      <td>-11</td>\n",
       "      <td>61.65</td>\n",
       "      <td>96.62</td>\n",
       "      <td>205317.51</td>\n",
       "      <td>298755.63</td>\n",
       "      <td>93438.12</td>\n",
       "      <td>45.51</td>\n",
       "    </tr>\n",
       "    <tr>\n",
       "      <th>12</th>\n",
       "      <td>-12</td>\n",
       "      <td>61.65</td>\n",
       "      <td>97.74</td>\n",
       "      <td>205317.51</td>\n",
       "      <td>297847.60</td>\n",
       "      <td>92530.08</td>\n",
       "      <td>45.07</td>\n",
       "    </tr>\n",
       "    <tr>\n",
       "      <th>13</th>\n",
       "      <td>-13</td>\n",
       "      <td>61.65</td>\n",
       "      <td>98.31</td>\n",
       "      <td>205317.51</td>\n",
       "      <td>295818.92</td>\n",
       "      <td>90501.40</td>\n",
       "      <td>44.08</td>\n",
       "    </tr>\n",
       "    <tr>\n",
       "      <th>14</th>\n",
       "      <td>-14</td>\n",
       "      <td>61.65</td>\n",
       "      <td>98.87</td>\n",
       "      <td>205317.51</td>\n",
       "      <td>292783.36</td>\n",
       "      <td>87465.85</td>\n",
       "      <td>42.60</td>\n",
       "    </tr>\n",
       "    <tr>\n",
       "      <th>15</th>\n",
       "      <td>-15</td>\n",
       "      <td>61.65</td>\n",
       "      <td>99.06</td>\n",
       "      <td>205317.51</td>\n",
       "      <td>289552.18</td>\n",
       "      <td>84234.66</td>\n",
       "      <td>41.03</td>\n",
       "    </tr>\n",
       "    <tr>\n",
       "      <th>16</th>\n",
       "      <td>-16</td>\n",
       "      <td>61.65</td>\n",
       "      <td>99.25</td>\n",
       "      <td>205317.51</td>\n",
       "      <td>286295.79</td>\n",
       "      <td>80978.28</td>\n",
       "      <td>39.44</td>\n",
       "    </tr>\n",
       "    <tr>\n",
       "      <th>17</th>\n",
       "      <td>-17</td>\n",
       "      <td>61.65</td>\n",
       "      <td>99.25</td>\n",
       "      <td>205317.51</td>\n",
       "      <td>282887.51</td>\n",
       "      <td>77569.99</td>\n",
       "      <td>37.78</td>\n",
       "    </tr>\n",
       "    <tr>\n",
       "      <th>18</th>\n",
       "      <td>-18</td>\n",
       "      <td>61.65</td>\n",
       "      <td>99.25</td>\n",
       "      <td>205317.51</td>\n",
       "      <td>279479.22</td>\n",
       "      <td>74161.71</td>\n",
       "      <td>36.12</td>\n",
       "    </tr>\n",
       "    <tr>\n",
       "      <th>19</th>\n",
       "      <td>-19</td>\n",
       "      <td>61.65</td>\n",
       "      <td>99.81</td>\n",
       "      <td>205317.51</td>\n",
       "      <td>278028.65</td>\n",
       "      <td>72711.13</td>\n",
       "      <td>35.41</td>\n",
       "    </tr>\n",
       "  </tbody>\n",
       "</table>\n",
       "</div>"
      ],
      "text/plain": [
       "    price_change  default_wr  changed_wr  default_revenue  changed_revenue  \\\n",
       "0              0       61.65       61.65        205317.51        205317.51   \n",
       "1             -1       61.65       66.54        205317.51        216279.87   \n",
       "2             -2       61.65       70.68        205317.51        224801.75   \n",
       "3             -3       61.65       76.50        205317.51        244496.89   \n",
       "4             -4       61.65       81.58        205317.51        269337.03   \n",
       "5             -5       61.65       85.53        205317.51        276416.41   \n",
       "6             -6       61.65       89.29        205317.51        290536.19   \n",
       "7             -7       61.65       91.73        205317.51        295107.89   \n",
       "8             -8       61.65       93.05        205317.51        294223.09   \n",
       "9             -9       61.65       93.61        205317.51        292516.59   \n",
       "10           -10       61.65       95.49        205317.51        301310.05   \n",
       "11           -11       61.65       96.62        205317.51        298755.63   \n",
       "12           -12       61.65       97.74        205317.51        297847.60   \n",
       "13           -13       61.65       98.31        205317.51        295818.92   \n",
       "14           -14       61.65       98.87        205317.51        292783.36   \n",
       "15           -15       61.65       99.06        205317.51        289552.18   \n",
       "16           -16       61.65       99.25        205317.51        286295.79   \n",
       "17           -17       61.65       99.25        205317.51        282887.51   \n",
       "18           -18       61.65       99.25        205317.51        279479.22   \n",
       "19           -19       61.65       99.81        205317.51        278028.65   \n",
       "\n",
       "    difference_revenue  percentage_revenue  \n",
       "0                 0.00                0.00  \n",
       "1             10962.36                5.34  \n",
       "2             19484.24                9.49  \n",
       "3             39179.37               19.08  \n",
       "4             64019.52               31.18  \n",
       "5             71098.89               34.63  \n",
       "6             85218.67               41.51  \n",
       "7             89790.38               43.73  \n",
       "8             88905.58               43.30  \n",
       "9             87199.08               42.47  \n",
       "10            95992.53               46.75  \n",
       "11            93438.12               45.51  \n",
       "12            92530.08               45.07  \n",
       "13            90501.40               44.08  \n",
       "14            87465.85               42.60  \n",
       "15            84234.66               41.03  \n",
       "16            80978.28               39.44  \n",
       "17            77569.99               37.78  \n",
       "18            74161.71               36.12  \n",
       "19            72711.13               35.41  "
      ]
     },
     "execution_count": 8,
     "metadata": {},
     "output_type": "execute_result"
    }
   ],
   "source": [
    "# for example, parametres like\n",
    "    # supplier_name = 'HYTR'\n",
    "    # min_price_decrease = 0\n",
    "    # max_price_decrease = 20\n",
    "    # decreasing_step = 1\n",
    "# will generate a table with 20 rows, showing (0%, 1%,... 20%) price decrease effects\n",
    "# adjust them for further analysis\n",
    "\n",
    "# ----- put your variables below -----\n",
    "supplier_name = 'HYTR'\n",
    "min_price_decrease = 0\n",
    "max_price_decrease = 20\n",
    "decreasing_step = 1\n",
    "# ----- end of parametres, please do not change the further code with no purpose -----\n",
    "\n",
    "# drawing graph\n",
    "df_graph = pd.DataFrame.from_dict([\n",
    "        changes_analysis(source_data, supplier_name, i, output='object') \n",
    "        for i in np.arange(-min_price_decrease, -max_price_decrease, -decreasing_step)\n",
    "    ]\n",
    ")\n",
    "df_graph['difference_revenue'] = df_graph['changed_revenue'] - df_graph['default_revenue']\n",
    "df_graph['percentage_revenue'] = (df_graph['changed_revenue'] / df_graph['default_revenue'] - 1) * 100\n",
    "df_graph = df_graph.round(2)\n",
    "\n",
    "fig = px.scatter(df_graph, \n",
    "                 x='price_change', \n",
    "                 y='changed_revenue', \n",
    "                 title=f'Sales increase prediction for the {supplier_name} company',\n",
    "                 hover_data=[\"difference_revenue\", \"percentage_revenue\"],\n",
    "                 labels={\n",
    "                        \"price_change\": \"Price decrease, X% \",\n",
    "                        \"changed_revenue\": \"Total revenue, MYS \",\n",
    "                        \"difference_revenue\": \"Extra revenue, MYS \",\n",
    "                         \"percentage_revenue\": \"Revenue change, % \"\n",
    "                 },)\n",
    "fig['layout']['xaxis']['autorange'] = 'reversed'\n",
    "fig.add_annotation(x=df_graph.iloc[df_graph['changed_revenue'].idxmax()]['price_change'], \n",
    "                   y=df_graph.iloc[df_graph['changed_revenue'].idxmax()]['changed_revenue'],\n",
    "                   text='max revenue')\n",
    "fig.update_traces(mode=\"markers+lines\")\n",
    "fig.show()\n",
    "\n",
    "df_graph"
   ]
  },
  {
   "cell_type": "code",
   "execution_count": null,
   "id": "ac78c917-9544-41a4-9cee-64b931f63c01",
   "metadata": {},
   "outputs": [],
   "source": []
  }
 ],
 "metadata": {
  "kernelspec": {
   "display_name": "Python 3 (ipykernel)",
   "language": "python",
   "name": "python3"
  },
  "language_info": {
   "codemirror_mode": {
    "name": "ipython",
    "version": 3
   },
   "file_extension": ".py",
   "mimetype": "text/x-python",
   "name": "python",
   "nbconvert_exporter": "python",
   "pygments_lexer": "ipython3",
   "version": "3.9.13"
  }
 },
 "nbformat": 4,
 "nbformat_minor": 5
}
